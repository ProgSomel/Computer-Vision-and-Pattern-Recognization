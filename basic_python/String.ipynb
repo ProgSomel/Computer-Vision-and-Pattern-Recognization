{
 "cells": [
  {
   "cell_type": "code",
   "execution_count": 13,
   "id": "9d69b39b",
   "metadata": {},
   "outputs": [
    {
     "name": "stdout",
     "output_type": "stream",
     "text": [
      "Hello World\n",
      "Hello World\n",
      "Print\n",
      "Multiple\n",
      "Lines\n",
      "\n",
      "The value of a is 10\n",
      "The value of a plus 5 is 15\n",
      "a is 5\n",
      "a is 5 \n",
      "a is 5\n",
      "a is 5 5\n"
     ]
    }
   ],
   "source": [
    "print(\"Hello World\")\n",
    "print('Hello World')\n",
    "print(\"\"\"Print\n",
    "Multiple\n",
    "Lines\n",
    "\"\"\")\n",
    "\n",
    "a = 10\n",
    "print(f'The value of a is {a}') #The value of a is 10\n",
    "a = 10\n",
    "print(f'The value of a plus 5 is {a+5}') #The value of a plus 5 is 15\n",
    "\n",
    "a = 5\n",
    "print(f'a is {a}') #a is 5\n",
    "print('a is {} '.format(a)) #a is 5\n",
    "print('a is '+str(a)) #a is 5\n",
    "print('a is %d %d'%(a, a)) #a is 5 5\n"
   ]
  }
 ],
 "metadata": {
  "kernelspec": {
   "display_name": "Python 3 (ipykernel)",
   "language": "python",
   "name": "python3"
  },
  "language_info": {
   "codemirror_mode": {
    "name": "ipython",
    "version": 3
   },
   "file_extension": ".py",
   "mimetype": "text/x-python",
   "name": "python",
   "nbconvert_exporter": "python",
   "pygments_lexer": "ipython3",
   "version": "3.8.18"
  }
 },
 "nbformat": 4,
 "nbformat_minor": 5
}
