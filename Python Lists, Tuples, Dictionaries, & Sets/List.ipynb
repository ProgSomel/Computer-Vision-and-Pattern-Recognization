{
 "cells": [
  {
   "cell_type": "code",
   "execution_count": 3,
   "id": "5e380850",
   "metadata": {},
   "outputs": [],
   "source": [
    "my_list = [1,2, 3]"
   ]
  },
  {
   "cell_type": "code",
   "execution_count": 4,
   "id": "d72cdfd6",
   "metadata": {},
   "outputs": [],
   "source": [
    "my_list = ['string', 100, 23.2]"
   ]
  },
  {
   "cell_type": "code",
   "execution_count": 6,
   "id": "62436cb8",
   "metadata": {},
   "outputs": [
    {
     "data": {
      "text/plain": [
       "3"
      ]
     },
     "execution_count": 6,
     "metadata": {},
     "output_type": "execute_result"
    }
   ],
   "source": [
    "len(my_list)"
   ]
  },
  {
   "cell_type": "code",
   "execution_count": 7,
   "id": "2731cd48",
   "metadata": {},
   "outputs": [],
   "source": [
    "mylist = ['one', 'two', 'three']"
   ]
  },
  {
   "cell_type": "code",
   "execution_count": 9,
   "id": "98a84cc1",
   "metadata": {},
   "outputs": [
    {
     "data": {
      "text/plain": [
       "'one'"
      ]
     },
     "execution_count": 9,
     "metadata": {},
     "output_type": "execute_result"
    }
   ],
   "source": [
    "mylist[0]"
   ]
  },
  {
   "cell_type": "code",
   "execution_count": 11,
   "id": "193668ba",
   "metadata": {},
   "outputs": [
    {
     "data": {
      "text/plain": [
       "'two'"
      ]
     },
     "execution_count": 11,
     "metadata": {},
     "output_type": "execute_result"
    }
   ],
   "source": [
    "mylist[1]"
   ]
  },
  {
   "cell_type": "code",
   "execution_count": 13,
   "id": "0291e3bb",
   "metadata": {},
   "outputs": [
    {
     "data": {
      "text/plain": [
       "'three'"
      ]
     },
     "execution_count": 13,
     "metadata": {},
     "output_type": "execute_result"
    }
   ],
   "source": [
    "mylist[2]"
   ]
  },
  {
   "cell_type": "code",
   "execution_count": 15,
   "id": "3c90218d",
   "metadata": {},
   "outputs": [
    {
     "data": {
      "text/plain": [
       "['two', 'three']"
      ]
     },
     "execution_count": 15,
     "metadata": {},
     "output_type": "execute_result"
    }
   ],
   "source": [
    "mylist[1:]"
   ]
  },
  {
   "cell_type": "code",
   "execution_count": 17,
   "id": "7f26fb0a",
   "metadata": {},
   "outputs": [
    {
     "data": {
      "text/plain": [
       "['one', 'two', 'three']"
      ]
     },
     "execution_count": 17,
     "metadata": {},
     "output_type": "execute_result"
    }
   ],
   "source": [
    "mylist"
   ]
  },
  {
   "cell_type": "code",
   "execution_count": 19,
   "id": "c4d83dc7",
   "metadata": {},
   "outputs": [],
   "source": [
    "anotherList = ['four', 'five']"
   ]
  },
  {
   "cell_type": "code",
   "execution_count": 23,
   "id": "d7513aea",
   "metadata": {},
   "outputs": [
    {
     "ename": "NameError",
     "evalue": "name 'anotherList' is not defined",
     "output_type": "error",
     "traceback": [
      "\u001b[1;31m---------------------------------------------------------------------------\u001b[0m",
      "\u001b[1;31mNameError\u001b[0m                                 Traceback (most recent call last)",
      "Cell \u001b[1;32mIn[23], line 1\u001b[0m\n\u001b[1;32m----> 1\u001b[0m mylist \u001b[38;5;241m+\u001b[39m \u001b[43manotherList\u001b[49m\n",
      "\u001b[1;31mNameError\u001b[0m: name 'anotherList' is not defined"
     ]
    }
   ],
   "source": [
    "mylist + anotherList"
   ]
  },
  {
   "cell_type": "code",
   "execution_count": 24,
   "id": "79741b99",
   "metadata": {},
   "outputs": [],
   "source": [
    "anotherList = ['four', 'five']"
   ]
  },
  {
   "cell_type": "code",
   "execution_count": 26,
   "id": "3d88bf16",
   "metadata": {},
   "outputs": [
    {
     "data": {
      "text/plain": [
       "['one', 'two', 'three', 'four', 'five']"
      ]
     },
     "execution_count": 26,
     "metadata": {},
     "output_type": "execute_result"
    }
   ],
   "source": [
    "mylist + anotherList"
   ]
  },
  {
   "cell_type": "code",
   "execution_count": 27,
   "id": "991d695e",
   "metadata": {},
   "outputs": [],
   "source": [
    "newList = mylist + anotherList"
   ]
  },
  {
   "cell_type": "code",
   "execution_count": 29,
   "id": "aef38808",
   "metadata": {},
   "outputs": [
    {
     "data": {
      "text/plain": [
       "['one', 'two', 'three', 'four', 'five']"
      ]
     },
     "execution_count": 29,
     "metadata": {},
     "output_type": "execute_result"
    }
   ],
   "source": [
    "newList"
   ]
  },
  {
   "cell_type": "code",
   "execution_count": 30,
   "id": "841733ad",
   "metadata": {},
   "outputs": [],
   "source": [
    "newList[0] = \"ONE ALL CAPS\""
   ]
  },
  {
   "cell_type": "code",
   "execution_count": 32,
   "id": "550224d9",
   "metadata": {},
   "outputs": [
    {
     "data": {
      "text/plain": [
       "['ONE ALL CAPS', 'two', 'three', 'four', 'five']"
      ]
     },
     "execution_count": 32,
     "metadata": {},
     "output_type": "execute_result"
    }
   ],
   "source": [
    "newList"
   ]
  },
  {
   "cell_type": "code",
   "execution_count": 34,
   "id": "b28496bd",
   "metadata": {},
   "outputs": [
    {
     "data": {
      "text/plain": [
       "['ONE ALL CAPS', 'two', 'three', 'four', 'five', 'six', 'six']"
      ]
     },
     "execution_count": 34,
     "metadata": {},
     "output_type": "execute_result"
    }
   ],
   "source": [
    "newList.append(\"six\")\n",
    "newList"
   ]
  },
  {
   "cell_type": "code",
   "execution_count": 36,
   "id": "cb751b5a",
   "metadata": {},
   "outputs": [
    {
     "data": {
      "text/plain": [
       "<function list.pop(index=-1, /)>"
      ]
     },
     "execution_count": 36,
     "metadata": {},
     "output_type": "execute_result"
    }
   ],
   "source": [
    "newList.pop"
   ]
  },
  {
   "cell_type": "code",
   "execution_count": 38,
   "id": "c3e84940",
   "metadata": {},
   "outputs": [
    {
     "data": {
      "text/plain": [
       "'six'"
      ]
     },
     "execution_count": 38,
     "metadata": {},
     "output_type": "execute_result"
    }
   ],
   "source": [
    "newList.pop()"
   ]
  },
  {
   "cell_type": "code",
   "execution_count": 40,
   "id": "2f68d52b",
   "metadata": {},
   "outputs": [
    {
     "data": {
      "text/plain": [
       "['ONE ALL CAPS', 'two', 'three', 'four', 'five']"
      ]
     },
     "execution_count": 40,
     "metadata": {},
     "output_type": "execute_result"
    }
   ],
   "source": [
    "newList"
   ]
  },
  {
   "cell_type": "code",
   "execution_count": 43,
   "id": "3409a2f2",
   "metadata": {},
   "outputs": [
    {
     "data": {
      "text/plain": [
       "'three'"
      ]
     },
     "execution_count": 43,
     "metadata": {},
     "output_type": "execute_result"
    }
   ],
   "source": [
    "popedItem = newList.pop()\n",
    "popedItem"
   ]
  },
  {
   "cell_type": "code",
   "execution_count": 45,
   "id": "a004d8af",
   "metadata": {},
   "outputs": [
    {
     "data": {
      "text/plain": [
       "['ONE ALL CAPS', 'two']"
      ]
     },
     "execution_count": 45,
     "metadata": {},
     "output_type": "execute_result"
    }
   ],
   "source": [
    "newList"
   ]
  },
  {
   "cell_type": "code",
   "execution_count": 49,
   "id": "b99b83cb",
   "metadata": {},
   "outputs": [
    {
     "ename": "IndexError",
     "evalue": "pop from empty list",
     "output_type": "error",
     "traceback": [
      "\u001b[1;31m---------------------------------------------------------------------------\u001b[0m",
      "\u001b[1;31mIndexError\u001b[0m                                Traceback (most recent call last)",
      "Cell \u001b[1;32mIn[49], line 1\u001b[0m\n\u001b[1;32m----> 1\u001b[0m \u001b[43mnewList\u001b[49m\u001b[38;5;241;43m.\u001b[39;49m\u001b[43mpop\u001b[49m\u001b[43m(\u001b[49m\u001b[38;5;241;43m0\u001b[39;49m\u001b[43m)\u001b[49m\n",
      "\u001b[1;31mIndexError\u001b[0m: pop from empty list"
     ]
    }
   ],
   "source": [
    "newList.pop(0)\n"
   ]
  },
  {
   "cell_type": "code",
   "execution_count": 50,
   "id": "45541b17",
   "metadata": {},
   "outputs": [
    {
     "data": {
      "text/plain": [
       "[]"
      ]
     },
     "execution_count": 50,
     "metadata": {},
     "output_type": "execute_result"
    }
   ],
   "source": [
    "newList"
   ]
  },
  {
   "cell_type": "code",
   "execution_count": 51,
   "id": "0ea21f07",
   "metadata": {},
   "outputs": [
    {
     "data": {
      "text/plain": [
       "[]"
      ]
     },
     "execution_count": 51,
     "metadata": {},
     "output_type": "execute_result"
    }
   ],
   "source": [
    "newList"
   ]
  },
  {
   "cell_type": "code",
   "execution_count": null,
   "id": "32ba6418",
   "metadata": {},
   "outputs": [],
   "source": []
  },
  {
   "cell_type": "code",
   "execution_count": 58,
   "id": "9b7f1958",
   "metadata": {},
   "outputs": [],
   "source": [
    "newList = ['a', 'e', 'x', 'b', 'c']\n",
    "numList = [4, 1, 8, 3]\n",
    "newList.sort() # It will sort the list element\n",
    "newList\n",
    "#But newList.sort() it will not return anything \n",
    "mySortedList = newList.sort()\n",
    "mySortedList #sort() method doesn't return anything that's why it will not show/print anything"
   ]
  },
  {
   "cell_type": "code",
   "execution_count": 61,
   "id": "55a0142c",
   "metadata": {},
   "outputs": [
    {
     "data": {
      "text/plain": [
       "['a', 'b', 'c', 'e', 'x']"
      ]
     },
     "execution_count": 61,
     "metadata": {},
     "output_type": "execute_result"
    }
   ],
   "source": [
    "newList"
   ]
  },
  {
   "cell_type": "code",
   "execution_count": 63,
   "id": "2167731e",
   "metadata": {},
   "outputs": [
    {
     "data": {
      "text/plain": [
       "['a', 'b', 'c', 'e', 'x']"
      ]
     },
     "execution_count": 63,
     "metadata": {},
     "output_type": "execute_result"
    }
   ],
   "source": [
    "#So to solve above problem . Or to store the sorted list to another varable We can do:\n",
    "newList.sort()\n",
    "mySortedList = newList\n",
    "mySortedList"
   ]
  },
  {
   "cell_type": "code",
   "execution_count": 65,
   "id": "465b672c",
   "metadata": {},
   "outputs": [
    {
     "data": {
      "text/plain": [
       "['a', 'b', 'c', 'e', 'x']"
      ]
     },
     "execution_count": 65,
     "metadata": {},
     "output_type": "execute_result"
    }
   ],
   "source": [
    "newList.reverse() #It will not return anything. So we need to call it to show the reverse list\n",
    "newList"
   ]
  },
  {
   "cell_type": "code",
   "execution_count": 69,
   "id": "0589d845",
   "metadata": {},
   "outputs": [
    {
     "name": "stdout",
     "output_type": "stream",
     "text": [
      "['a', 'b', 1, 2]\n",
      "b\n",
      "2\n"
     ]
    }
   ],
   "source": [
    "l = ['a', 'b', 1, 2]\n",
    "print(l) #['a', 'b', 1, 2]\n",
    "print(l[1]) #b\n",
    "print(l[-1]) #2"
   ]
  },
  {
   "cell_type": "code",
   "execution_count": 71,
   "id": "7b35e7c9",
   "metadata": {},
   "outputs": [
    {
     "name": "stdout",
     "output_type": "stream",
     "text": [
      "a\n",
      "b\n",
      "1\n",
      "2\n"
     ]
    }
   ],
   "source": [
    "for i in l:\n",
    "    print(i)"
   ]
  },
  {
   "cell_type": "code",
   "execution_count": 74,
   "id": "aa3bca62",
   "metadata": {},
   "outputs": [
    {
     "name": "stdout",
     "output_type": "stream",
     "text": [
      "0 : a\n",
      "1 : b\n",
      "2 : 1\n",
      "3 : 2\n"
     ]
    }
   ],
   "source": [
    "for i, v in enumerate (l):\n",
    "    print(f'{i} : {v}')"
   ]
  },
  {
   "cell_type": "code",
   "execution_count": 82,
   "id": "8c84c970",
   "metadata": {},
   "outputs": [
    {
     "name": "stdout",
     "output_type": "stream",
     "text": [
      "['a', 'b', 'c', 'b']\n",
      "['a0', 'a', 'b', 'c', 'b']\n",
      "['a0', 'a', 'c', 'b']\n",
      "['a', 'c', 'b']\n"
     ]
    }
   ],
   "source": [
    "#Insert: using insert we can add any new value to any index\n",
    "c = ['a', 'b', 'c', 'b']\n",
    "print(c) #['a', 'b', 'c', 'b']\n",
    "c.insert(0, 'a0')\n",
    "print(c) #['a0', 'a', 'b', 'c', 'b']\n",
    "# remove: using remove we can remove a value providing that value name.It will remove the first find value\n",
    "c.remove('b')\n",
    "print(c) #['a0', 'a', 'c', 'b']\n",
    "#remove at index\n",
    "del c[0]\n",
    "print(c) #['a', 'c', 'b']"
   ]
  },
  {
   "cell_type": "code",
   "execution_count": 84,
   "id": "a2e1e9f5",
   "metadata": {},
   "outputs": [
    {
     "name": "stdout",
     "output_type": "stream",
     "text": [
      "Two\n"
     ]
    }
   ],
   "source": [
    "listOfLists = [\n",
    "    ['a','b','c'],\n",
    "    [1,2,3,4,5,6,7,8],\n",
    "    ['One','Two']\n",
    "]\n",
    "listOfLists #[['a', 'b', 'c'], [1, 2, 3, 4, 5, 6, 7, 8], ['One', 'Two']]\n",
    "print(listOfLists[2][1]) #Two"
   ]
  }
 ],
 "metadata": {
  "kernelspec": {
   "display_name": "Python 3 (ipykernel)",
   "language": "python",
   "name": "python3"
  },
  "language_info": {
   "codemirror_mode": {
    "name": "ipython",
    "version": 3
   },
   "file_extension": ".py",
   "mimetype": "text/x-python",
   "name": "python",
   "nbconvert_exporter": "python",
   "pygments_lexer": "ipython3",
   "version": "3.8.18"
  }
 },
 "nbformat": 4,
 "nbformat_minor": 5
}
