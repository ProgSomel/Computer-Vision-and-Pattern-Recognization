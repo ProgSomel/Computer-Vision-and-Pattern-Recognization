{
 "cells": [
  {
   "cell_type": "code",
   "execution_count": null,
   "id": "3ae3e8c4",
   "metadata": {},
   "outputs": [],
   "source": [
    "# A Python set holds an unordered collection of objects, but sets do not allow duplicates. If a program adds a duplicate item to a set, only one copy of each item remains in the collection. Adding a duplicate item to a set does not result in an error. Any of the following techniques will define a set.\n",
    "\n",
    "# A list is always enclosed in square braces [], a tuple in parenthesis (), and now we see that the programmer encloses a set in curly braces. Programs can add items to a set as they run. Programs can dynamically add items to a set with the add function. It is important to note that the append function adds items to lists and tuples, whereas the add function adds items to a set."
   ]
  },
  {
   "cell_type": "code",
   "execution_count": null,
   "id": "3c1afdca",
   "metadata": {},
   "outputs": [],
   "source": [
    "# Sets are unordered collections of unique elements \n",
    "# Meaning there can only be one representative of the same object"
   ]
  },
  {
   "cell_type": "code",
   "execution_count": 3,
   "id": "6e5daf2f",
   "metadata": {},
   "outputs": [
    {
     "data": {
      "text/plain": [
       "{1}"
      ]
     },
     "execution_count": 3,
     "metadata": {},
     "output_type": "execute_result"
    }
   ],
   "source": [
    "myset = set()\n",
    "myset #set()\n",
    "myset.add(1)\n",
    "myset #{1}"
   ]
  },
  {
   "cell_type": "code",
   "execution_count": 5,
   "id": "20bf6479",
   "metadata": {},
   "outputs": [],
   "source": [
    "myset.add(2)"
   ]
  },
  {
   "cell_type": "code",
   "execution_count": 6,
   "id": "41975e82",
   "metadata": {},
   "outputs": [
    {
     "data": {
      "text/plain": [
       "{1, 2}"
      ]
     },
     "execution_count": 6,
     "metadata": {},
     "output_type": "execute_result"
    }
   ],
   "source": [
    "myset"
   ]
  },
  {
   "cell_type": "code",
   "execution_count": 7,
   "id": "0e6dbfbb",
   "metadata": {},
   "outputs": [
    {
     "data": {
      "text/plain": [
       "{1, 2, 3}"
      ]
     },
     "execution_count": 7,
     "metadata": {},
     "output_type": "execute_result"
    }
   ],
   "source": [
    "# set will only contain unique values. If i give duplicate values , it will not show any error. It will give only the unique values\n",
    "myList = [1, 1, 1, 1, 2, 2, 2, 3, 3, 3]\n",
    "set(myList)"
   ]
  },
  {
   "cell_type": "code",
   "execution_count": 8,
   "id": "88b0dd18",
   "metadata": {},
   "outputs": [
    {
     "name": "stdout",
     "output_type": "stream",
     "text": [
      "{'ARCHI', 'BBA', 'MBA', 'EEE'} <class 'set'>\n"
     ]
    }
   ],
   "source": [
    "depts = {\"MBA\",\"EEE\",\"BBA\",\"ARCHI\"}\n",
    "print(depts, type(depts))"
   ]
  },
  {
   "cell_type": "code",
   "execution_count": 9,
   "id": "96d1f341",
   "metadata": {},
   "outputs": [
    {
     "name": "stdout",
     "output_type": "stream",
     "text": [
      "{'MBA', 'ARCHI', 'EEE', 'CS', 'BBA'}\n"
     ]
    }
   ],
   "source": [
    "depts.add(\"CS\")\n",
    "print(depts)"
   ]
  },
  {
   "cell_type": "code",
   "execution_count": 13,
   "id": "63d5c269",
   "metadata": {},
   "outputs": [
    {
     "name": "stdout",
     "output_type": "stream",
     "text": [
      "{'MBA', 'EEE', 'BBA'}\n"
     ]
    }
   ],
   "source": [
    "depts.remove(\"ARCHI\")\n",
    "print(depts)"
   ]
  },
  {
   "cell_type": "code",
   "execution_count": null,
   "id": "d078e226",
   "metadata": {},
   "outputs": [],
   "source": []
  }
 ],
 "metadata": {
  "kernelspec": {
   "display_name": "Python 3 (ipykernel)",
   "language": "python",
   "name": "python3"
  },
  "language_info": {
   "codemirror_mode": {
    "name": "ipython",
    "version": 3
   },
   "file_extension": ".py",
   "mimetype": "text/x-python",
   "name": "python",
   "nbconvert_exporter": "python",
   "pygments_lexer": "ipython3",
   "version": "3.8.18"
  }
 },
 "nbformat": 4,
 "nbformat_minor": 5
}
