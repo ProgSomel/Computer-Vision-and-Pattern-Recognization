{
 "cells": [
  {
   "cell_type": "code",
   "execution_count": 8,
   "id": "2973c24b",
   "metadata": {},
   "outputs": [
    {
     "name": "stdout",
     "output_type": "stream",
     "text": [
      "[[ 1  2  3  4]\n",
      " [ 5  6  7  8]\n",
      " [ 9 10 11 12]]\n",
      "--------------\n",
      "[[2 3]\n",
      " [6 7]]\n",
      "--------------\n",
      "2\n",
      "--------------\n",
      "[[77  3]\n",
      " [ 6  7]]\n",
      "--------------\n",
      "77\n"
     ]
    }
   ],
   "source": [
    "import numpy as np\n",
    "a = np.array([[1,2,3,4], [5,6,7,8], [9,10,11,12]])\n",
    "b = a[:2, 1:3]\n",
    "\n",
    "print(a)\n",
    "print(\"--------------\")\n",
    "\n",
    "print(b)\n",
    "print(\"--------------\")\n",
    "print(a[0, 1])\n",
    "print(\"--------------\")\n",
    "b[0, 0] = 77\n",
    "print(b)\n",
    "print(\"--------------\")\n",
    "print(a[0, 1])"
   ]
  },
  {
   "cell_type": "code",
   "execution_count": 13,
   "id": "c3484ca3",
   "metadata": {},
   "outputs": [
    {
     "name": "stdout",
     "output_type": "stream",
     "text": [
      "[5 6 7 8] (4,)\n",
      "[[5 6 7 8]] (1, 4)\n",
      "[ 2  6 10] (3,)\n",
      "[[ 2]\n",
      " [ 6]\n",
      " [10]] (3, 1)\n"
     ]
    }
   ],
   "source": [
    "a = np.array([[1,2,3,4], [5,6,7,8], [9,10,11,12]]) #rank 2\n",
    "row_r1 = a[1, :]\n",
    "print(row_r1, row_r1.shape) #[5 6 7 8] (4,)\n",
    "\n",
    "row_r2 = a[1:2, :]\n",
    "print(row_r2, row_r2.shape) #[[5 6 7 8]] (1, 4)\n",
    "\n",
    "col_c = a[:, 1]\n",
    "print(col_c , col_c .shape) #[ 2  6 10] (3,)\n",
    "\n",
    "col_c2 = a[:, 1:2]\n",
    "print(col_c2, col_c2.shape) #[ 2  6 10] (3,)"
   ]
  }
 ],
 "metadata": {
  "kernelspec": {
   "display_name": "Python 3 (ipykernel)",
   "language": "python",
   "name": "python3"
  },
  "language_info": {
   "codemirror_mode": {
    "name": "ipython",
    "version": 3
   },
   "file_extension": ".py",
   "mimetype": "text/x-python",
   "name": "python",
   "nbconvert_exporter": "python",
   "pygments_lexer": "ipython3",
   "version": "3.8.18"
  }
 },
 "nbformat": 4,
 "nbformat_minor": 5
}
