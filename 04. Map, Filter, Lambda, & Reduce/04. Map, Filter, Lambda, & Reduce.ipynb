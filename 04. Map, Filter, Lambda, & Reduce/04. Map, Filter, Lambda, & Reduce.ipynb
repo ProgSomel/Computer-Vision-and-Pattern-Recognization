{
 "cells": [
  {
   "cell_type": "code",
   "execution_count": 7,
   "id": "14bbdda1",
   "metadata": {},
   "outputs": [],
   "source": [
    "def sign(a):\n",
    "    if a > 0:\n",
    "        return 'positive'\n",
    "    elif a < 0:\n",
    "        return 'negative'\n",
    "    else:\n",
    "        return 'zero'"
   ]
  },
  {
   "cell_type": "code",
   "execution_count": 8,
   "id": "02690a24",
   "metadata": {},
   "outputs": [
    {
     "name": "stdout",
     "output_type": "stream",
     "text": [
      "5 positive\n",
      "4 positive\n",
      "3 positive\n",
      "2 positive\n",
      "1 positive\n",
      "0 zero\n",
      "-1 negative\n",
      "-2 negative\n",
      "-3 negative\n",
      "-4 negative\n",
      "-5 negative\n"
     ]
    }
   ],
   "source": [
    "for i in range(5, -6, -1):\n",
    "    print(i, sign(i))"
   ]
  },
  {
   "cell_type": "code",
   "execution_count": 9,
   "id": "5d319e09",
   "metadata": {},
   "outputs": [],
   "source": [
    "def addition(x):\n",
    "    return x+x"
   ]
  },
  {
   "cell_type": "code",
   "execution_count": 10,
   "id": "f7cc4500",
   "metadata": {},
   "outputs": [
    {
     "name": "stdout",
     "output_type": "stream",
     "text": [
      "[2, 4, 6, 8, 10, 12]\n"
     ]
    }
   ],
   "source": [
    "nums = [1, 2, 3, 4, 5, 6]\n",
    "res = map(addition, nums)\n",
    "print(list(res))"
   ]
  },
  {
   "cell_type": "code",
   "execution_count": 11,
   "id": "fd15b289",
   "metadata": {},
   "outputs": [],
   "source": [
    "def pre(str):\n",
    "    t = str.strip()\n",
    "    return t[0].upper()+t[1:]\n"
   ]
  },
  {
   "cell_type": "code",
   "execution_count": 12,
   "id": "511c68ae",
   "metadata": {},
   "outputs": [
    {
     "data": {
      "text/plain": [
       "['Apple', 'Pear', 'Orange', 'Mango', 'Pineapple']"
      ]
     },
     "execution_count": 12,
     "metadata": {},
     "output_type": "execute_result"
    }
   ],
   "source": [
    "li = [' apple ', ' pear ', ' orange ', 'mango', \"pineapple\"]\n",
    "list(map(pre, li))"
   ]
  },
  {
   "cell_type": "code",
   "execution_count": 13,
   "id": "1b4bef16",
   "metadata": {},
   "outputs": [
    {
     "name": "stdout",
     "output_type": "stream",
     "text": [
      "['Apple', 'Pear', 'Orange', 'Mango', 'Pineapple']\n"
     ]
    }
   ],
   "source": [
    "l2 = [pre(x) for x in li]\n",
    "print(l2)"
   ]
  },
  {
   "cell_type": "code",
   "execution_count": 14,
   "id": "f3db3446",
   "metadata": {},
   "outputs": [],
   "source": [
    "#####Filter#####\n",
    "def greater_than_five(x):\n",
    "    return x>5"
   ]
  },
  {
   "cell_type": "code",
   "execution_count": 16,
   "id": "af4376d4",
   "metadata": {},
   "outputs": [
    {
     "name": "stdout",
     "output_type": "stream",
     "text": [
      "[8, 20, 21, 50]\n"
     ]
    }
   ],
   "source": [
    "l = [1, 2, 5, 8, 20, 21, 50]\n",
    "print(list(filter(greater_than_five, l)))"
   ]
  },
  {
   "cell_type": "code",
   "execution_count": 17,
   "id": "e5d9fcdd",
   "metadata": {},
   "outputs": [
    {
     "name": "stdout",
     "output_type": "stream",
     "text": [
      "[2, 20, 40, 6, -4, 0]\n"
     ]
    }
   ],
   "source": [
    "###Lamda###\n",
    "\n",
    "nums = [1, 10, 20, 3, -2, 0]\n",
    "print(list(map(lambda a:a+a, nums)))"
   ]
  },
  {
   "cell_type": "code",
   "execution_count": 20,
   "id": "9ed91c55",
   "metadata": {},
   "outputs": [
    {
     "name": "stdout",
     "output_type": "stream",
     "text": [
      "[10, 20]\n"
     ]
    }
   ],
   "source": [
    "print(list(filter(lambda a: a>3, nums)))"
   ]
  },
  {
   "cell_type": "code",
   "execution_count": 26,
   "id": "0fd4377b",
   "metadata": {},
   "outputs": [
    {
     "name": "stdout",
     "output_type": "stream",
     "text": [
      "32\n"
     ]
    }
   ],
   "source": [
    "from functools import reduce\n",
    "print((reduce(lambda x,y: x+y, nums)))"
   ]
  }
 ],
 "metadata": {
  "kernelspec": {
   "display_name": "Python 3 (ipykernel)",
   "language": "python",
   "name": "python3"
  },
  "language_info": {
   "codemirror_mode": {
    "name": "ipython",
    "version": 3
   },
   "file_extension": ".py",
   "mimetype": "text/x-python",
   "name": "python",
   "nbconvert_exporter": "python",
   "pygments_lexer": "ipython3",
   "version": "3.8.18"
  }
 },
 "nbformat": 4,
 "nbformat_minor": 5
}
